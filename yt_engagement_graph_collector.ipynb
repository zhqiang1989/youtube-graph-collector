{
 "cells": [
  {
   "cell_type": "code",
   "execution_count": 12,
   "metadata": {},
   "outputs": [],
   "source": [
    "from bs4 import BeautifulSoup\n",
    "import json\n",
    "import matplotlib.pyplot as plt\n",
    "import time\n",
    "from datetime import datetime\n",
    "from selenium import webdriver\n",
    "from selenium.webdriver.support.ui import WebDriverWait\n",
    "from selenium.webdriver.support import expected_conditions as EC\n",
    "from selenium.webdriver.common.by import By\n",
    "from selenium.common.exceptions import TimeoutException\n",
    "from selenium.webdriver.firefox.service import Service"
   ]
  },
  {
   "cell_type": "code",
   "execution_count": 13,
   "metadata": {},
   "outputs": [],
   "source": [
    "\n",
    "def path2vec(pathstr):\n",
    "    # this function is used to convert the raw engagement graph data to x, y vectors\n",
    "    path_x = []\n",
    "    path_y = []\n",
    "    for item in pathstr.split(\"C\"):\n",
    "        if item.startswith(\"M\"):\n",
    "            continue\n",
    "        item = item.strip()\n",
    "        for dot in item.split(\" \")[2:]:\n",
    "            dot_x_y = dot.split(\",\")\n",
    "            dot_x = float(dot_x_y[0])\n",
    "            dot_y = 100-float(dot_x_y[1]) # the y axis is reversed\n",
    "            path_x.append(dot_x)\n",
    "            path_y.append(dot_y)\n",
    "    return path_x, path_y"
   ]
  },
  {
   "cell_type": "code",
   "execution_count": 14,
   "metadata": {},
   "outputs": [],
   "source": [
    "# id of video page to be scraped\n",
    "yt_id = \"Qx54quy9tDQ\"\n",
    "yt_video_url = \"https://www.youtube.com/watch?v={}\".format(yt_id)\n"
   ]
  },
  {
   "cell_type": "code",
   "execution_count": 15,
   "metadata": {},
   "outputs": [],
   "source": [
    "## Obtain video engagment graphs (also referred to as \"heatmap\" in youtube video page html) ##\n",
    "# Because the engagement graph is rendered by javascript, we need to use selenium to get the graph data\n",
    "\n",
    "# the following code initializes the selenium webdriver\n",
    "# DRIVER_PATH is the path to geckodriver.exe -- the Firefox WebDriver\n",
    "DRIVER_PATH = \"./selenium_webdriver_util/geckodriver.exe\"\n",
    "\n",
    "useragent = \"Mozilla/5.0 (Linux; Android 8.0.0; Pixel 2 XL Build/OPD1.170816.004) AppleWebKit/537.36 (KHTML, like Gecko) Chrome/67.0.3396.87 Mobile Safari/537.36\"\n",
    "\n",
    "options = webdriver.FirefoxOptions()\n",
    "options.set_preference(\"dom.webnotifications.serviceworker.enabled\", False)\n",
    "options.set_preference(\"dom.webnotifications.enabled\", False)\n",
    "options.add_argument('--headless')\n",
    "service = Service(executable_path=DRIVER_PATH)\n",
    "driver = webdriver.Firefox(service=service, options=options)\n"
   ]
  },
  {
   "cell_type": "code",
   "execution_count": 16,
   "metadata": {},
   "outputs": [
    {
     "name": "stdout",
     "output_type": "stream",
     "text": [
      "<selenium.webdriver.remote.webelement.WebElement (session=\"47916da9-e530-49a2-ab0f-88305aa2ca2d\", element=\"b61f8473-b10c-4ef9-be96-96812af92543\")>\n"
     ]
    }
   ],
   "source": [
    "# following code opens the youtube video page and collects the heatmap data\n",
    "driver.get(yt_video_url)\n",
    "\n",
    "# get time of data collection\n",
    "time_str = str(datetime.now())\n",
    "unix_time = int(time.time())\n",
    "\n",
    "video_data = {\"video_id\": yt_id,\n",
    "              \"yt_video_url\": yt_video_url,\n",
    "               \"collection_time_str\": time_str,\n",
    "             \"collection_time_unix\": unix_time,  \n",
    "              }\n",
    "\n",
    "delay = 20  # seconds\n",
    "\n",
    "# because the heatmap section is loaded dynamically, we need to wait for it to load\n",
    "try:\n",
    "    heat_map_section_present = WebDriverWait(driver, delay).until(\n",
    "        EC.presence_of_element_located((By.CLASS_NAME, \"ytp-heat-map-chapter\")))\n",
    "\n",
    "    print(heat_map_section_present)\n",
    "\n",
    "except TimeoutException:\n",
    "    print(\"Exceeding load time limit!\")\n"
   ]
  },
  {
   "cell_type": "code",
   "execution_count": 17,
   "metadata": {},
   "outputs": [
    {
     "name": "stdout",
     "output_type": "stream",
     "text": [
      "<selenium.webdriver.remote.webelement.WebElement (session=\"47916da9-e530-49a2-ab0f-88305aa2ca2d\", element=\"73370a48-193f-4747-ab4a-82542fdb75ce\")>\n"
     ]
    }
   ],
   "source": [
    "# following code opens the youtube video page and collects the heatmap data\n",
    "driver.get(yt_video_url)\n",
    "\n",
    "# get time of data collection\n",
    "time_str = str(datetime.now())\n",
    "unix_time = int(time.time())\n",
    "\n",
    "video_data = {\"video_id\": yt_id,\n",
    "              \"yt_video_url\": yt_video_url,\n",
    "               \"collection_time_str\": time_str,\n",
    "             \"collection_time_unix\": unix_time,  \n",
    "              }\n",
    "\n",
    "delay = 20  # seconds\n",
    "\n",
    "# because the heatmap section is loaded dynamically, we need to wait for it to load\n",
    "try:\n",
    "    heat_map_section_present = WebDriverWait(driver, delay).until(\n",
    "        EC.presence_of_element_located((By.CLASS_NAME, \"ytp-heat-map-chapter\")))\n",
    "\n",
    "    print(heat_map_section_present)\n",
    "\n",
    "except TimeoutException:\n",
    "    print(\"Exceeding load time limit!\")\n",
    "\n",
    "# once the heatmap section is loaded, we can extract the path data from the html\n",
    "page = BeautifulSoup(driver.page_source, \"html.parser\")\n",
    "driver.quit()"
   ]
  },
  {
   "cell_type": "code",
   "execution_count": 18,
   "metadata": {},
   "outputs": [
    {
     "name": "stdout",
     "output_type": "stream",
     "text": [
      "[<div class=\"ytp-heat-map-chapter\" style=\"width: 829px; left: 0px;\"><svg class=\"ytp-heat-map-svg\" height=\"100%\" preserveaspectratio=\"none\" style=\"height: 40px;\" version=\"1.1\" viewbox=\"0 0 1000 100\" width=\"100%\"><defs><clippath id=\"4\"><path class=\"ytp-heat-map-path\" d=\"M 0.0,100.0 C 1.0,87.2 2.0,40.6 5.0,35.9 C 8.0,31.2 11.0,66.7 15.0,76.6 C 19.0,86.6 21.0,83.0 25.0,85.6 C 29.0,88.1 31.0,88.4 35.0,89.3 C 39.0,90.2 41.0,89.9 45.0,90.0 C 49.0,90.1 51.0,90.0 55.0,90.0 C 59.0,90.0 61.0,90.0 65.0,90.0 C 69.0,90.0 71.0,90.0 75.0,90.0 C 79.0,90.0 81.0,90.0 85.0,90.0 C 89.0,90.0 91.0,90.5 95.0,90.0 C 99.0,89.5 101.0,89.3 105.0,87.3 C 109.0,85.4 111.0,80.5 115.0,80.3 C 119.0,80.2 121.0,84.6 125.0,86.6 C 129.0,88.5 131.0,89.3 135.0,90.0 C 139.0,90.7 141.0,90.9 145.0,90.0 C 149.0,89.1 151.0,87.0 155.0,85.7 C 159.0,84.4 161.0,83.9 165.0,83.5 C 169.0,83.0 171.0,82.3 175.0,83.6 C 179.0,84.9 181.0,88.7 185.0,90.0 C 189.0,91.3 191.0,90.9 195.0,90.0 C 199.0,89.0 201.0,85.7 205.0,85.2 C 209.0,84.8 211.0,87.0 215.0,87.5 C 219.0,88.0 221.0,88.0 225.0,87.6 C 229.0,87.2 231.0,86.7 235.0,85.5 C 239.0,84.2 241.0,81.9 245.0,81.3 C 249.0,80.6 251.0,80.3 255.0,82.1 C 259.0,83.8 261.0,88.4 265.0,90.0 C 269.0,91.6 271.0,90.0 275.0,90.0 C 279.0,90.0 281.0,90.4 285.0,90.0 C 289.0,89.6 291.0,88.8 295.0,87.9 C 299.0,86.9 301.0,85.4 305.0,85.4 C 309.0,85.3 311.0,86.8 315.0,87.7 C 319.0,88.7 321.0,89.5 325.0,90.0 C 329.0,90.5 331.0,90.0 335.0,90.0 C 339.0,90.0 341.0,90.0 345.0,90.0 C 349.0,90.0 351.0,90.0 355.0,90.0 C 359.0,90.0 361.0,90.3 365.0,90.0 C 369.0,89.7 371.0,88.5 375.0,88.5 C 379.0,88.5 381.0,89.7 385.0,90.0 C 389.0,90.3 391.0,90.0 395.0,90.0 C 399.0,90.0 401.0,90.0 405.0,90.0 C 409.0,90.0 411.0,89.9 415.0,89.9 C 419.0,89.9 421.0,90.0 425.0,90.0 C 429.0,90.0 431.0,90.0 435.0,90.0 C 439.0,90.0 441.0,90.0 445.0,90.0 C 449.0,90.0 451.0,90.0 455.0,90.0 C 459.0,90.0 461.0,90.0 465.0,90.0 C 469.0,90.0 471.0,90.0 475.0,90.0 C 479.0,90.0 481.0,90.0 485.0,90.0 C 489.0,90.0 491.0,90.0 495.0,90.0 C 499.0,90.0 501.0,90.0 505.0,90.0 C 509.0,90.0 511.0,91.5 515.0,90.0 C 519.0,88.5 521.0,85.6 525.0,82.5 C 529.0,79.4 531.0,79.4 535.0,74.5 C 539.0,69.6 541.0,61.5 545.0,57.9 C 549.0,54.2 551.0,55.7 555.0,56.3 C 559.0,56.9 561.0,54.5 565.0,60.9 C 569.0,67.3 571.0,82.4 575.0,88.3 C 579.0,94.1 581.0,89.7 585.0,90.0 C 589.0,90.3 591.0,90.0 595.0,90.0 C 599.0,90.0 601.0,90.0 605.0,90.0 C 609.0,90.0 611.0,90.7 615.0,90.0 C 619.0,89.3 621.0,87.6 625.0,86.4 C 629.0,85.2 631.0,83.5 635.0,84.0 C 639.0,84.5 641.0,87.6 645.0,88.8 C 649.0,90.1 651.0,90.6 655.0,90.0 C 659.0,89.4 661.0,86.7 665.0,85.9 C 669.0,85.1 671.0,86.4 675.0,86.1 C 679.0,85.9 681.0,85.3 685.0,84.6 C 689.0,83.9 691.0,82.7 695.0,82.6 C 699.0,82.4 701.0,83.4 705.0,84.0 C 709.0,84.5 711.0,85.0 715.0,85.2 C 719.0,85.4 721.0,85.5 725.0,85.2 C 729.0,84.9 731.0,85.3 735.0,83.7 C 739.0,82.1 741.0,83.9 745.0,77.3 C 749.0,70.6 751.0,62.5 755.0,50.5 C 759.0,38.4 761.0,27.2 765.0,17.1 C 769.0,7.0 771.0,-1.3 775.0,0.0 C 779.0,1.3 781.0,14.5 785.0,23.7 C 789.0,32.9 791.0,37.9 795.0,46.0 C 799.0,54.1 801.0,57.5 805.0,64.1 C 809.0,70.7 811.0,76.8 815.0,79.1 C 819.0,81.3 821.0,77.3 825.0,75.3 C 829.0,73.4 831.0,71.7 835.0,69.1 C 839.0,66.5 841.0,63.7 845.0,62.3 C 849.0,60.9 851.0,61.6 855.0,62.1 C 859.0,62.7 861.0,62.6 865.0,65.2 C 869.0,67.7 871.0,69.9 875.0,74.9 C 879.0,79.9 881.0,87.0 885.0,90.0 C 889.0,93.0 891.0,90.0 895.0,90.0 C 899.0,90.0 901.0,90.8 905.0,89.9 C 909.0,89.1 911.0,87.6 915.0,85.9 C 919.0,84.1 921.0,80.8 925.0,81.1 C 929.0,81.4 931.0,85.7 935.0,87.5 C 939.0,89.3 941.0,89.5 945.0,90.0 C 949.0,90.5 951.0,90.0 955.0,90.0 C 959.0,90.0 961.0,90.0 965.0,90.0 C 969.0,90.0 971.0,90.0 975.0,90.0 C 979.0,90.0 981.0,90.0 985.0,90.0 C 989.0,90.0 992.0,90.0 995.0,90.0 C 998.0,90.0 999.0,88.0 1000.0,90.0 C 1001.0,92.0 1000.0,98.0 1000.0,100.0\" fill=\"white\"></path></clippath></defs><rect class=\"ytp-heat-map-graph\" clip-path=\"url(#4)\" fill=\"white\" fill-opacity=\"0.4\" height=\"100%\" width=\"100%\" x=\"0\" y=\"0\"></rect><rect class=\"ytp-heat-map-hover\" clip-path=\"url(#4)\" fill=\"white\" fill-opacity=\"0.7\" height=\"100%\" width=\"100%\" x=\"0\" y=\"0\"></rect><rect class=\"ytp-heat-map-play\" clip-path=\"url(#4)\" height=\"100%\" x=\"0\" y=\"0\"></rect></svg></div>]\n"
     ]
    }
   ],
   "source": [
    "\n",
    "heat_map_section = page.find_all(\"div\", {\"class\", \"ytp-heat-map-chapter\"})\n",
    "\n",
    "print(heat_map_section)\n",
    "\n",
    "# print(len(heat_map_section))\n",
    "map_data_list = []\n",
    "if heat_map_section:\n",
    "    for chap_map in heat_map_section:\n",
    "        chap_path_data = chap_map.find(\"path\", {\"class\", \"ytp-heat-map-path\"}).get('d')\n",
    "        map_data_list.append(chap_path_data)\n",
    "\n",
    "# whether there are multiple chapters\n",
    "if len(map_data_list) == 1:\n",
    "    path_data = map_data_list[0]\n",
    "    path_x, path_y = path2vec(path_data)\n",
    "    video_data[\"path_data_raw\"] = path_data\n",
    "    video_data[\"path_x\"] = path_x\n",
    "    video_data[\"path_y\"] = path_y\n",
    "    video_data[\"graph_exist\"] = True\n",
    "\n",
    "elif len(map_data_list) > 1: # multiple chapters\n",
    "    path_x_list = []\n",
    "    path_y_list = []\n",
    "    for path_data in map_data_list:\n",
    "        path_x, path_y = path2vec(path_data)\n",
    "        path_x_list.append(path_x)\n",
    "        path_y_list.append(path_y)\n",
    "\n",
    "    video_data[\"path_data_raw\"] = map_data_list\n",
    "    video_data[\"path_x\"] = path_x_list\n",
    "    video_data[\"path_y\"] = path_y_list\n",
    "    video_data[\"graph_exist\"] = True\n",
    "\n",
    "elif len(map_data_list) == 0: # no heatmap data\n",
    "    video_data[\"path_data_raw\"] = None\n",
    "    video_data[\"path_x\"] = None\n",
    "    video_data[\"path_y\"] = None\n",
    "    video_data[\"graph_exist\"] = False"
   ]
  },
  {
   "cell_type": "code",
   "execution_count": 19,
   "metadata": {},
   "outputs": [
    {
     "data": {
      "image/png": "[encoded data removed]",
      "text/plain": [
       "<Figure size 640x480 with 1 Axes>"
      ]
     },
     "metadata": {},
     "output_type": "display_data"
    }
   ],
   "source": [
    "# visualize the engagment graph\n",
    "if video_data[\"graph_exist\"]:\n",
    "    fig, ax = plt.subplots()\n",
    "    if len(map_data_list) == 1:\n",
    "        ax.plot(path_x, path_y)\n",
    "    else:\n",
    "        for i in range(len(path_x_list)):\n",
    "            ax.plot(path_x_list[i], path_y_list[i])\n",
    "\n",
    "    ax.set(xlabel='x', ylabel='y',\n",
    "           title='Engagement Graph')\n",
    "    ax.grid()\n",
    "    plt.show()"
   ]
  },
  {
   "cell_type": "code",
   "execution_count": 20,
   "metadata": {},
   "outputs": [],
   "source": [
    "# save video data to json file\n",
    "with open('./video_data/yt_engagment_graph_{}.json'.format(yt_id), 'w') as fid:\n",
    "    json.dump(video_data, fid)"
   ]
  }
 ],
 "metadata": {
  "kernelspec": {
   "display_name": "base",
   "language": "python",
   "name": "python3"
  },
  "language_info": {
   "codemirror_mode": {
    "name": "ipython",
    "version": 3
   },
   "file_extension": ".py",
   "mimetype": "text/x-python",
   "name": "python",
   "nbconvert_exporter": "python",
   "pygments_lexer": "ipython3",
   "version": "3.10.9"
  }
 },
 "nbformat": 4,
 "nbformat_minor": 2
}
